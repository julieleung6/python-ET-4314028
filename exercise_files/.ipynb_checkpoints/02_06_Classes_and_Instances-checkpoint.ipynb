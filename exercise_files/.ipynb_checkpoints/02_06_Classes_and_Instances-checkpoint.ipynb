{
 "cells": [
  {
   "cell_type": "markdown",
   "id": "7e7cecd6",
   "metadata": {},
   "source": [
    "## Classes"
   ]
  },
  {
   "cell_type": "markdown",
   "id": "8e452f17-a140-4d3a-bbb0-3e8ce59f4dd8",
   "metadata": {},
   "source": [
    "A Python class is a great way to keep related collections of functions and attributes labeled and organized."
   ]
  },
  {
   "cell_type": "markdown",
   "id": "369fd536-c6a3-4226-af5d-ea85bc959b52",
   "metadata": {},
   "source": [
    "_init_ stands for initialization. This function is called whenever an instance of the class Dog is created."
   ]
  },
  {
   "cell_type": "markdown",
   "id": "c58e1a2c-241a-4775-8848-0fd4906ec367",
   "metadata": {},
   "source": [
    "The variable called self is the specific instance of the Dog class after we've initialized it."
   ]
  },
  {
   "cell_type": "markdown",
   "id": "b44c3851-9a34-449e-8840-331827db5577",
   "metadata": {},
   "source": [
    "The self variable here is the instance of the class that the function was called on."
   ]
  },
  {
   "cell_type": "code",
   "execution_count": 9,
   "id": "d5cde69b",
   "metadata": {},
   "outputs": [],
   "source": [
    "class Dog: #only class names are capitalized. Function names are lowercase. So we can distinguish between the two\n",
    "#the def functions here are called methods, or called class methods. Example: the Dog object has the method speak.\n",
    "    def __init__(self, name): #passing in a name variable allows us to give dogs different names\n",
    "        self.name = name #the variables inside these classes are called attributes, attributes of the objects.       \n",
    "        self.legs = 4\n",
    "    \n",
    "    def speak(self): #Passed the self variable here. This means I have access to any of the attributes or functions in this class\n",
    "        print(self.name + ' says: Bark!')\n",
    " "
   ]
  },
  {
   "cell_type": "code",
   "execution_count": 8,
   "id": "5b3dde35",
   "metadata": {},
   "outputs": [],
   "source": [
    "#These class instances are also called objects. #these are dog objects\n",
    "#providing the names for the dogs\n",
    "#two instances of the class Dog\n",
    "my_dog = Dog('Rover')\n",
    "another_dog = Dog('Fluffy')"
   ]
  },
  {
   "cell_type": "code",
   "execution_count": 4,
   "id": "ceed1af6",
   "metadata": {},
   "outputs": [
    {
     "name": "stdout",
     "output_type": "stream",
     "text": [
      "Rover says: Bark!\n"
     ]
    }
   ],
   "source": [
    "my_dog.speak()"
   ]
  },
  {
   "cell_type": "code",
   "execution_count": 5,
   "id": "b85ea67b",
   "metadata": {},
   "outputs": [
    {
     "name": "stdout",
     "output_type": "stream",
     "text": [
      "Fluffy says: Bark!\n"
     ]
    }
   ],
   "source": [
    "another_dog.speak()"
   ]
  },
  {
   "cell_type": "code",
   "execution_count": 10,
   "id": "7eabc292-9728-424a-8156-9e570e2fc6f9",
   "metadata": {},
   "outputs": [
    {
     "data": {
      "text/plain": [
       "__main__.Dog"
      ]
     },
     "execution_count": 10,
     "metadata": {},
     "output_type": "execute_result"
    }
   ],
   "source": [
    "type(Dog('Rover'))"
   ]
  },
  {
   "cell_type": "code",
   "execution_count": null,
   "id": "6c27d7c5-394b-42f4-b71c-ec9dcf349309",
   "metadata": {},
   "outputs": [],
   "source": []
  }
 ],
 "metadata": {
  "kernelspec": {
   "display_name": "Python 3 (ipykernel)",
   "language": "python",
   "name": "python3"
  },
  "language_info": {
   "codemirror_mode": {
    "name": "ipython",
    "version": 3
   },
   "file_extension": ".py",
   "mimetype": "text/x-python",
   "name": "python",
   "nbconvert_exporter": "python",
   "pygments_lexer": "ipython3",
   "version": "3.9.18"
  }
 },
 "nbformat": 4,
 "nbformat_minor": 5
}
