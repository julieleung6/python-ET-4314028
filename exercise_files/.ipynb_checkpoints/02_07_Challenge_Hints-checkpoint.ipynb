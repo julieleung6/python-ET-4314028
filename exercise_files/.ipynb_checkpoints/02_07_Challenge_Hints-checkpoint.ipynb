{
 "cells": [
  {
   "cell_type": "markdown",
   "id": "48f2163c",
   "metadata": {},
   "source": [
    "## Factorial Challenge\n",
    "\n",
    "The factorial function gives the number of possible arrangements of a set of items of length \"n\"\n",
    "\n",
    "For example, there are 4! (\"four factorial\") or 24 ways to arrange four items, which can be calculated as: \n",
    "4 \\* 3 \\* 2 \\* 1\n",
    "\n",
    "5! = 5 \\* 4 \\* 3 \\* 2 \\* 1 = 120\n",
    "\n",
    "6! = 6 \\* 5 \\* 4 \\* 3 \\* 2 \\* 1 = 720\n",
    "\n",
    "etc.\n",
    "\n",
    "In a set of 0 items (an empty set) there is only one way to arrange the items, therefore, 0! = 1\n",
    "\n",
    "For the purposes of this exercise, factorials are only defined for **positive integers** (including 0)\n",
    "\n"
   ]
  },
  {
   "cell_type": "markdown",
   "id": "76c229aa",
   "metadata": {},
   "source": [
    "### Challenge Hints!"
   ]
  },
  {
   "cell_type": "markdown",
   "id": "102ebdab",
   "metadata": {},
   "source": [
    "**HINT 1:** You can figure out whether a variable is of a certain type in the following way:\n"
   ]
  },
  {
   "cell_type": "code",
   "execution_count": 1,
   "id": "df2ebdca",
   "metadata": {
    "scrolled": true
   },
   "outputs": [
    {
     "name": "stdout",
     "output_type": "stream",
     "text": [
      "myVar is an integer!\n"
     ]
    }
   ],
   "source": [
    "myVar = 1\n",
    "\n",
    "if type(myVar) == int:\n",
    "    print('myVar is an integer!')\n",
    "\n",
    "if type(myVar) != int:\n",
    "    print('myVar is NOT an integer!')"
   ]
  },
  {
   "cell_type": "markdown",
   "id": "77f06600",
   "metadata": {},
   "source": [
    "**HINT 2:** You can create a while loop and manipulate multiple variables inside of it:"
   ]
  },
  {
   "cell_type": "code",
   "execution_count": 2,
   "id": "6ac23a6d",
   "metadata": {},
   "outputs": [
    {
     "data": {
      "text/plain": [
       "55"
      ]
     },
     "execution_count": 2,
     "metadata": {},
     "output_type": "execute_result"
    }
   ],
   "source": [
    "# This prints the sum of all of the numbers from 1 to 10\n",
    "i = 0\n",
    "s = 0\n",
    "while i < 10:\n",
    "    i = i + 1\n",
    "    s = s + i\n",
    "\n",
    "s"
   ]
  },
  {
   "cell_type": "markdown",
   "id": "c058630b",
   "metadata": {},
   "source": [
    "**HINT 3:** Alternatively, a function can call itself! This is called \"recursion\" This also returns the sum of all numbers from 0 to 10:\n"
   ]
  },
  {
   "cell_type": "code",
   "execution_count": null,
   "id": "6433d065-2860-4255-bd28-b3162d9f5b7f",
   "metadata": {},
   "outputs": [],
   "source": [
    "a = [5,4,3,2,1]"
   ]
  },
  {
   "cell_type": "code",
   "execution_count": 6,
   "id": "094c9140",
   "metadata": {},
   "outputs": [
    {
     "data": {
      "text/plain": [
       "55"
      ]
     },
     "execution_count": 6,
     "metadata": {},
     "output_type": "execute_result"
    }
   ],
   "source": [
    "def addNumbers(i):\n",
    "    if i == 0:\n",
    "        return 0\n",
    "    return i + addNumbers(i - 1)\n",
    "    \n",
    "addNumbers(10)"
   ]
  },
  {
   "cell_type": "code",
   "execution_count": 1,
   "id": "92af0386",
   "metadata": {},
   "outputs": [],
   "source": [
    "# Returns the value of the factorial of num if it is defined, otherwise, returns None\n",
    "def factorial(num):\n",
    "    pass\n"
   ]
  },
  {
   "cell_type": "code",
   "execution_count": 22,
   "id": "1d10be7a",
   "metadata": {},
   "outputs": [
    {
     "data": {
      "text/plain": [
       "120"
      ]
     },
     "execution_count": 22,
     "metadata": {},
     "output_type": "execute_result"
    }
   ],
   "source": [
    "factorial(5)"
   ]
  },
  {
   "cell_type": "code",
   "execution_count": 23,
   "id": "c43845c1",
   "metadata": {},
   "outputs": [
    {
     "data": {
      "text/plain": [
       "1"
      ]
     },
     "execution_count": 23,
     "metadata": {},
     "output_type": "execute_result"
    }
   ],
   "source": [
    "factorial(0)"
   ]
  },
  {
   "cell_type": "code",
   "execution_count": 24,
   "id": "8f605415",
   "metadata": {},
   "outputs": [],
   "source": [
    "factorial(-2)"
   ]
  },
  {
   "cell_type": "code",
   "execution_count": 25,
   "id": "5b973ff0",
   "metadata": {},
   "outputs": [],
   "source": [
    "factorial(1.2)"
   ]
  },
  {
   "cell_type": "code",
   "execution_count": 26,
   "id": "67f07cca",
   "metadata": {},
   "outputs": [],
   "source": [
    "factorial('spam spam spam spam spam spam')"
   ]
  },
  {
   "cell_type": "code",
   "execution_count": 3,
   "id": "714148cd",
   "metadata": {},
   "outputs": [],
   "source": [
    "# Python code​​​​​​‌​‌‌​​​​‌​‌​​‌​‌‌​‌‌‌​​​‌ below\n",
    "\n",
    "def factorial(num):\n",
    "    # Your code goes here.\n",
    "    if type(num) == int:\n",
    "        if num >= 0:\n",
    "            n = 1\n",
    "            i = 1\n",
    "            while n <= num:\n",
    "                n += 1\n",
    "                i = (n - 1) * i\n",
    "                return i\n",
    "        else: \n",
    "            return None\n",
    "    else:\n",
    "        return None\n"
   ]
  },
  {
   "cell_type": "code",
   "execution_count": 20,
   "id": "432d15f4-052d-450a-ab4a-dc367a4f8ba0",
   "metadata": {},
   "outputs": [],
   "source": [
    "# SOLUTION\n",
    "\n",
    "def factorial(num):\n",
    "    if type(num) != int:\n",
    "        return None\n",
    "    if num < 0:\n",
    "        return None\n",
    "    fact = 1\n",
    "    counter = 1\n",
    "    while counter <= num:\n",
    "        fact = fact * counter\n",
    "        counter = counter + 1\n",
    "    return fact"
   ]
  },
  {
   "cell_type": "code",
   "execution_count": 10,
   "id": "34819323-4f8b-4a3c-ab98-22a7afd9ff8a",
   "metadata": {},
   "outputs": [],
   "source": [
    "# SOLUTION with Recursion\n",
    "\n",
    "def fact(num):\n",
    "    if type(num) != int:\n",
    "        return None\n",
    "    if num < 0:\n",
    "        return None\n",
    "    if num == 0: #this gives us factorial(0) = 1\n",
    "        return 1\n",
    "    return num * (fact(num - 1)) \n",
    "#5*factorial(5-1) => 5*factorial(4) => 5*4*factorial(3) => 5*4*3*factorial(2) => 5*4*3*2*factorial(1) => 5*4*3*2*1*factorial(0) \n",
    "# => 5*4*3*2*1*1 = 120"
   ]
  },
  {
   "cell_type": "code",
   "execution_count": 16,
   "id": "ba5d9419-5a9c-461d-8815-3fc439f7bb08",
   "metadata": {},
   "outputs": [
    {
     "name": "stdout",
     "output_type": "stream",
     "text": [
      "None\n"
     ]
    }
   ],
   "source": [
    "print(fact(-3))"
   ]
  },
  {
   "cell_type": "code",
   "execution_count": 18,
   "id": "5bdd09a0-0020-4e13-9baf-a38d818822af",
   "metadata": {},
   "outputs": [
    {
     "name": "stdout",
     "output_type": "stream",
     "text": [
      "None\n"
     ]
    }
   ],
   "source": [
    "print(fact(5.0))"
   ]
  },
  {
   "cell_type": "code",
   "execution_count": 17,
   "id": "975c4714-0d03-4114-ad51-98c38a907b1b",
   "metadata": {},
   "outputs": [
    {
     "name": "stdout",
     "output_type": "stream",
     "text": [
      "120\n"
     ]
    }
   ],
   "source": [
    "print(fact(5))"
   ]
  },
  {
   "cell_type": "code",
   "execution_count": 21,
   "id": "2e7db9a1-5ade-46d5-8a3c-913cb41638c2",
   "metadata": {},
   "outputs": [
    {
     "data": {
      "text/plain": [
       "1"
      ]
     },
     "execution_count": 21,
     "metadata": {},
     "output_type": "execute_result"
    }
   ],
   "source": [
    "fact(0)"
   ]
  },
  {
   "cell_type": "code",
   "execution_count": 5,
   "id": "fe88c972-7878-41e0-9ea0-d5c5e6efe7ef",
   "metadata": {},
   "outputs": [],
   "source": [
    "#shorter solution with recursion\n",
    "def factorial(num):\n",
    "    if num == 0:\n",
    "        return 1\n",
    "    else: \n",
    "        return num * factorial(num - 1)"
   ]
  },
  {
   "cell_type": "code",
   "execution_count": 4,
   "id": "0363c5cd-f37e-45f6-a177-f3204bd612d4",
   "metadata": {},
   "outputs": [
    {
     "data": {
      "text/plain": [
       "120"
      ]
     },
     "execution_count": 4,
     "metadata": {},
     "output_type": "execute_result"
    }
   ],
   "source": [
    "factorial(5)"
   ]
  },
  {
   "cell_type": "code",
   "execution_count": 6,
   "id": "b9f7d040-f048-4877-8e18-8c91a1081786",
   "metadata": {},
   "outputs": [
    {
     "data": {
      "text/plain": [
       "1"
      ]
     },
     "execution_count": 6,
     "metadata": {},
     "output_type": "execute_result"
    }
   ],
   "source": [
    "factorial(0)"
   ]
  },
  {
   "cell_type": "code",
   "execution_count": 7,
   "id": "f81d1d5c-75bb-497d-b381-d49747d9b3be",
   "metadata": {},
   "outputs": [
    {
     "data": {
      "text/plain": [
       "1"
      ]
     },
     "execution_count": 7,
     "metadata": {},
     "output_type": "execute_result"
    }
   ],
   "source": [
    "factorial(1)"
   ]
  },
  {
   "cell_type": "code",
   "execution_count": 19,
   "id": "ca5ad2f6-e20c-4234-8fd1-8a9919124c5d",
   "metadata": {},
   "outputs": [
    {
     "name": "stdout",
     "output_type": "stream",
     "text": [
      "120.0\n"
     ]
    }
   ],
   "source": [
    "print(factorial(5.0))"
   ]
  },
  {
   "cell_type": "code",
   "execution_count": null,
   "id": "47a358eb-ec6d-48c0-a96b-23f41e1a57bf",
   "metadata": {},
   "outputs": [],
   "source": []
  }
 ],
 "metadata": {
  "kernelspec": {
   "display_name": "Python 3 (ipykernel)",
   "language": "python",
   "name": "python3"
  },
  "language_info": {
   "codemirror_mode": {
    "name": "ipython",
    "version": 3
   },
   "file_extension": ".py",
   "mimetype": "text/x-python",
   "name": "python",
   "nbconvert_exporter": "python",
   "pygments_lexer": "ipython3",
   "version": "3.9.18"
  }
 },
 "nbformat": 4,
 "nbformat_minor": 5
}
