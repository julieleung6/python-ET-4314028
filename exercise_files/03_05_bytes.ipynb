{
 "cells": [
  {
   "cell_type": "markdown",
   "id": "1c26ea1a-b954-4d3c-9b6c-d64ce9191b94",
   "metadata": {},
   "source": [
    "## Python Byte Object\n",
    "\n",
    "- Common behind the scenes\n",
    "- Used as data that gets passed in a program\n",
    "- Rarely manipulated or modified directly"
   ]
  },
  {
   "cell_type": "markdown",
   "id": "066eb2f6-ef50-41da-a29a-3b506af5c48f",
   "metadata": {},
   "source": [
    "### Byte Object Common Uses\n",
    "\n",
    "- Streaming files\n",
    "- Transmitting text without knowing the encoding\n",
    "- Often used \"under the hood\" in Python libraries"
   ]
  },
  {
   "cell_type": "markdown",
   "id": "fcb242f6",
   "metadata": {},
   "source": [
    "### Bytes"
   ]
  },
  {
   "cell_type": "code",
   "execution_count": 1,
   "id": "3c3ee6d8",
   "metadata": {},
   "outputs": [
    {
     "data": {
      "text/plain": [
       "b'\\x00\\x00\\x00\\x00'"
      ]
     },
     "execution_count": 1,
     "metadata": {},
     "output_type": "execute_result"
    }
   ],
   "source": [
    "bytes(4) #This creates an empty bytes object that's 4 bytes long.\n",
    "#Each byte here is represented with a \\x followed by 2 hexadecimal or based 16 numbers\n",
    "\n",
    "#Note: 2 hexadecimal numbers is 256 possibilities, same as 2**8 or 8 bits"
   ]
  },
  {
   "cell_type": "markdown",
   "id": "0f3ce12b-8410-40b1-b17a-1c46cf1115c4",
   "metadata": {},
   "source": [
    "**Note:** The b is used to differentiate bytes from a regular string. \n",
    "So, if you see something printed out with the b in front of it, it's a bytes object!"
   ]
  },
  {
   "cell_type": "code",
   "execution_count": 2,
   "id": "9a254973",
   "metadata": {},
   "outputs": [
    {
     "data": {
      "text/plain": [
       "b'\\xf0\\x9f\\x99\\x84'"
      ]
     },
     "execution_count": 2,
     "metadata": {},
     "output_type": "execute_result"
    }
   ],
   "source": [
    "#Creating a bytes object\n",
    "\n",
    "smileyBytes = bytes('🙄', 'utf-8') # To create the bytes object, you need to tell Python what the type is \n",
    "#of the thing you are trying to encode, so it knows how to find and isolate the data\n",
    "\n",
    "#Emojis are encoded with UTF-8, which is a type of Unicode Transformation Format. \n",
    "#Once it knows the format of the thing you are feeding it, it can represent the data correctly.\n",
    "smileyBytes"
   ]
  },
  {
   "cell_type": "code",
   "execution_count": 3,
   "id": "a18b1572",
   "metadata": {},
   "outputs": [
    {
     "data": {
      "text/plain": [
       "'🙄'"
      ]
     },
     "execution_count": 3,
     "metadata": {},
     "output_type": "execute_result"
    }
   ],
   "source": [
    "#Let's go the other way --> Take a bytes object and represent it as a string again\n",
    "\n",
    "smileyBytes.decode('utf-8') #Need the decode function\n",
    "#Again, need to pass the format in. So, decode utf-8"
   ]
  },
  {
   "cell_type": "markdown",
   "id": "784aed0c-49bb-49f1-91de-3eceb71687cb",
   "metadata": {},
   "source": [
    "**Note:** Bytes object are *immutable* like tuples.\n",
    "\n",
    "If we want bytes data that we can modify, we can use something called a **byte array**."
   ]
  },
  {
   "cell_type": "code",
   "execution_count": 13,
   "id": "48a506cd",
   "metadata": {},
   "outputs": [],
   "source": [
    "smileyBytes = bytearray('🙄', 'utf-8')"
   ]
  },
  {
   "cell_type": "code",
   "execution_count": 14,
   "id": "5e920566",
   "metadata": {},
   "outputs": [
    {
     "data": {
      "text/plain": [
       "bytearray(b'\\xf0\\x9f\\x99\\x84')"
      ]
     },
     "execution_count": 14,
     "metadata": {},
     "output_type": "execute_result"
    }
   ],
   "source": [
    "smileyBytes #this is a byte array now\n",
    "#Now, we can treat this smileyBytes object like a string"
   ]
  },
  {
   "cell_type": "code",
   "execution_count": 15,
   "id": "6f5cb2b0",
   "metadata": {},
   "outputs": [],
   "source": [
    "smileyBytes[3] = int('85', 16) #int(value, base) \n",
    "#Taking the value at the last position, which is hexadecimal 84 at index 3.\n",
    "#And let's change it to 85, but how do we get hexadecimal 85???\n",
    "#We can use the int library. So take 85 in base 16"
   ]
  },
  {
   "cell_type": "code",
   "execution_count": 16,
   "id": "8b5cd28d",
   "metadata": {},
   "outputs": [
    {
     "data": {
      "text/plain": [
       "'🙅'"
      ]
     },
     "execution_count": 16,
     "metadata": {},
     "output_type": "execute_result"
    }
   ],
   "source": [
    "smileyBytes.decode('utf-8')"
   ]
  },
  {
   "cell_type": "code",
   "execution_count": 21,
   "id": "fd1a7b83",
   "metadata": {},
   "outputs": [],
   "source": [
    "smileyBytes[3] = int('89', 16)"
   ]
  },
  {
   "cell_type": "code",
   "execution_count": null,
   "id": "159381ab-2a35-4d49-a809-36f08d2c650e",
   "metadata": {},
   "outputs": [],
   "source": []
  },
  {
   "cell_type": "code",
   "execution_count": 23,
   "id": "fe9a41d7-0570-4f80-9712-3d59edab9df6",
   "metadata": {},
   "outputs": [
    {
     "data": {
      "text/plain": [
       "133"
      ]
     },
     "execution_count": 23,
     "metadata": {},
     "output_type": "execute_result"
    }
   ],
   "source": [
    "int(\"85\", 16) #Return decimal (base-10) representation of \"85\""
   ]
  },
  {
   "cell_type": "code",
   "execution_count": 27,
   "id": "f6c5ad95-e172-4546-a51b-c69b34f42260",
   "metadata": {},
   "outputs": [
    {
     "data": {
      "text/plain": [
       "22"
      ]
     },
     "execution_count": 27,
     "metadata": {},
     "output_type": "execute_result"
    }
   ],
   "source": [
    "int(\"16\", 16) #Return decimal (base-10) representation of \"16\""
   ]
  },
  {
   "cell_type": "code",
   "execution_count": null,
   "id": "2a91c122-9654-43f4-965a-602aabfedb35",
   "metadata": {},
   "outputs": [],
   "source": []
  }
 ],
 "metadata": {
  "kernelspec": {
   "display_name": "Python 3 (ipykernel)",
   "language": "python",
   "name": "python3"
  },
  "language_info": {
   "codemirror_mode": {
    "name": "ipython",
    "version": 3
   },
   "file_extension": ".py",
   "mimetype": "text/x-python",
   "name": "python",
   "nbconvert_exporter": "python",
   "pygments_lexer": "ipython3",
   "version": "3.9.18"
  }
 },
 "nbformat": 4,
 "nbformat_minor": 5
}
